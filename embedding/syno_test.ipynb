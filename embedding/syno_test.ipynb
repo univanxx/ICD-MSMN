{
 "cells": [
  {
   "cell_type": "code",
   "execution_count": 98,
   "id": "8f3ec5f6-1328-4439-b8a4-e4fc444dccfa",
   "metadata": {},
   "outputs": [],
   "source": [
    "import pandas as pd\n",
    "from tqdm import tqdm\n",
    "import re\n",
    "import json"
   ]
  },
  {
   "cell_type": "code",
   "execution_count": 2,
   "id": "8a34e3d2-3f98-4a89-ad58-61b2ef197b95",
   "metadata": {},
   "outputs": [],
   "source": [
    "top_50 = pd.read_csv(\"./TOP_50_CODES.csv\", header=None)"
   ]
  },
  {
   "cell_type": "code",
   "execution_count": 3,
   "id": "9b3bf7db-719f-4569-8914-3206d36fe05b",
   "metadata": {},
   "outputs": [
    {
     "data": {
      "text/html": [
       "<div>\n",
       "<style scoped>\n",
       "    .dataframe tbody tr th:only-of-type {\n",
       "        vertical-align: middle;\n",
       "    }\n",
       "\n",
       "    .dataframe tbody tr th {\n",
       "        vertical-align: top;\n",
       "    }\n",
       "\n",
       "    .dataframe thead th {\n",
       "        text-align: right;\n",
       "    }\n",
       "</style>\n",
       "<table border=\"1\" class=\"dataframe\">\n",
       "  <thead>\n",
       "    <tr style=\"text-align: right;\">\n",
       "      <th></th>\n",
       "      <th>0</th>\n",
       "    </tr>\n",
       "  </thead>\n",
       "  <tbody>\n",
       "    <tr>\n",
       "      <th>0</th>\n",
       "      <td>E785</td>\n",
       "    </tr>\n",
       "    <tr>\n",
       "      <th>1</th>\n",
       "      <td>I10</td>\n",
       "    </tr>\n",
       "    <tr>\n",
       "      <th>2</th>\n",
       "      <td>Z87891</td>\n",
       "    </tr>\n",
       "    <tr>\n",
       "      <th>3</th>\n",
       "      <td>K219</td>\n",
       "    </tr>\n",
       "    <tr>\n",
       "      <th>4</th>\n",
       "      <td>F329</td>\n",
       "    </tr>\n",
       "  </tbody>\n",
       "</table>\n",
       "</div>"
      ],
      "text/plain": [
       "        0\n",
       "0    E785\n",
       "1     I10\n",
       "2  Z87891\n",
       "3    K219\n",
       "4    F329"
      ]
     },
     "execution_count": 3,
     "metadata": {},
     "output_type": "execute_result"
    }
   ],
   "source": [
    "top_50.head()"
   ]
  },
  {
   "cell_type": "code",
   "execution_count": 4,
   "id": "1b5cf2d3-a897-4745-b622-a1397b56b1db",
   "metadata": {},
   "outputs": [
    {
     "name": "stderr",
     "output_type": "stream",
     "text": [
      "13501908it [00:47, 281530.82it/s]\n"
     ]
    }
   ],
   "source": [
    "res = []\n",
    "with open(\"../../mimic_iv/MRCONSO.RRF\", mode=\"r\") as file:\n",
    "    for line in tqdm(file):\n",
    "        res.append(line.split('|')[:-1])"
   ]
  },
  {
   "cell_type": "code",
   "execution_count": 5,
   "id": "2c7e254e-8d78-4b68-8d4f-5ca86a51b79f",
   "metadata": {},
   "outputs": [],
   "source": [
    "# https://www.ncbi.nlm.nih.gov/books/NBK9685/#ch03.sec3.3.4\n",
    "cols = [\"CUI\", \"LAT\", \"TS\", \"LUI\", \"STT\", \"SUI\", \"ISPREF\", \"AUI\", \"SAUI\", \"SCUI\", \"SDUI\", \"SAB\", \"TTY\", \"CODE\", \"STR\", \"SRL\", \"SUPPRESS\", \"CVF\"]"
   ]
  },
  {
   "cell_type": "code",
   "execution_count": 6,
   "id": "5cebd23d-ed9f-4fac-9b34-a888fa85fd6e",
   "metadata": {},
   "outputs": [
    {
     "data": {
      "text/html": [
       "<div>\n",
       "<style scoped>\n",
       "    .dataframe tbody tr th:only-of-type {\n",
       "        vertical-align: middle;\n",
       "    }\n",
       "\n",
       "    .dataframe tbody tr th {\n",
       "        vertical-align: top;\n",
       "    }\n",
       "\n",
       "    .dataframe thead th {\n",
       "        text-align: right;\n",
       "    }\n",
       "</style>\n",
       "<table border=\"1\" class=\"dataframe\">\n",
       "  <thead>\n",
       "    <tr style=\"text-align: right;\">\n",
       "      <th></th>\n",
       "      <th>CUI</th>\n",
       "      <th>LAT</th>\n",
       "      <th>TS</th>\n",
       "      <th>LUI</th>\n",
       "      <th>STT</th>\n",
       "      <th>SUI</th>\n",
       "      <th>ISPREF</th>\n",
       "      <th>AUI</th>\n",
       "      <th>SAUI</th>\n",
       "      <th>SCUI</th>\n",
       "      <th>SDUI</th>\n",
       "      <th>SAB</th>\n",
       "      <th>TTY</th>\n",
       "      <th>CODE</th>\n",
       "      <th>STR</th>\n",
       "      <th>SRL</th>\n",
       "      <th>SUPPRESS</th>\n",
       "      <th>CVF</th>\n",
       "    </tr>\n",
       "  </thead>\n",
       "  <tbody>\n",
       "    <tr>\n",
       "      <th>0</th>\n",
       "      <td>C0000005</td>\n",
       "      <td>ENG</td>\n",
       "      <td>P</td>\n",
       "      <td>L0000005</td>\n",
       "      <td>PF</td>\n",
       "      <td>S0007492</td>\n",
       "      <td>Y</td>\n",
       "      <td>A26634265</td>\n",
       "      <td></td>\n",
       "      <td>M0019694</td>\n",
       "      <td>D012711</td>\n",
       "      <td>MSH</td>\n",
       "      <td>PEP</td>\n",
       "      <td>D012711</td>\n",
       "      <td>(131)I-Macroaggregated Albumin</td>\n",
       "      <td>0</td>\n",
       "      <td>N</td>\n",
       "      <td>256</td>\n",
       "    </tr>\n",
       "    <tr>\n",
       "      <th>1</th>\n",
       "      <td>C0000005</td>\n",
       "      <td>ENG</td>\n",
       "      <td>S</td>\n",
       "      <td>L0270109</td>\n",
       "      <td>PF</td>\n",
       "      <td>S0007491</td>\n",
       "      <td>Y</td>\n",
       "      <td>A26634266</td>\n",
       "      <td></td>\n",
       "      <td>M0019694</td>\n",
       "      <td>D012711</td>\n",
       "      <td>MSH</td>\n",
       "      <td>ET</td>\n",
       "      <td>D012711</td>\n",
       "      <td>(131)I-MAA</td>\n",
       "      <td>0</td>\n",
       "      <td>N</td>\n",
       "      <td>256</td>\n",
       "    </tr>\n",
       "    <tr>\n",
       "      <th>2</th>\n",
       "      <td>C0000005</td>\n",
       "      <td>FRE</td>\n",
       "      <td>P</td>\n",
       "      <td>L6220710</td>\n",
       "      <td>PF</td>\n",
       "      <td>S7133957</td>\n",
       "      <td>Y</td>\n",
       "      <td>A13433185</td>\n",
       "      <td></td>\n",
       "      <td>M0019694</td>\n",
       "      <td>D012711</td>\n",
       "      <td>MSHFRE</td>\n",
       "      <td>PEP</td>\n",
       "      <td>D012711</td>\n",
       "      <td>Macroagrégats d'albumine marquée à l'iode 131</td>\n",
       "      <td>3</td>\n",
       "      <td>N</td>\n",
       "      <td></td>\n",
       "    </tr>\n",
       "    <tr>\n",
       "      <th>3</th>\n",
       "      <td>C0000005</td>\n",
       "      <td>FRE</td>\n",
       "      <td>S</td>\n",
       "      <td>L6215648</td>\n",
       "      <td>PF</td>\n",
       "      <td>S7133916</td>\n",
       "      <td>Y</td>\n",
       "      <td>A27488794</td>\n",
       "      <td></td>\n",
       "      <td>M0019694</td>\n",
       "      <td>D012711</td>\n",
       "      <td>MSHFRE</td>\n",
       "      <td>ET</td>\n",
       "      <td>D012711</td>\n",
       "      <td>MAA-I 131</td>\n",
       "      <td>3</td>\n",
       "      <td>N</td>\n",
       "      <td></td>\n",
       "    </tr>\n",
       "    <tr>\n",
       "      <th>4</th>\n",
       "      <td>C0000005</td>\n",
       "      <td>FRE</td>\n",
       "      <td>S</td>\n",
       "      <td>L6215656</td>\n",
       "      <td>PF</td>\n",
       "      <td>S7133956</td>\n",
       "      <td>Y</td>\n",
       "      <td>A27614225</td>\n",
       "      <td></td>\n",
       "      <td>M0019694</td>\n",
       "      <td>D012711</td>\n",
       "      <td>MSHFRE</td>\n",
       "      <td>ET</td>\n",
       "      <td>D012711</td>\n",
       "      <td>Macroagrégats d'albumine humaine marquée à l'i...</td>\n",
       "      <td>3</td>\n",
       "      <td>N</td>\n",
       "      <td></td>\n",
       "    </tr>\n",
       "  </tbody>\n",
       "</table>\n",
       "</div>"
      ],
      "text/plain": [
       "        CUI  LAT TS       LUI STT       SUI ISPREF        AUI SAUI      SCUI  \\\n",
       "0  C0000005  ENG  P  L0000005  PF  S0007492      Y  A26634265       M0019694   \n",
       "1  C0000005  ENG  S  L0270109  PF  S0007491      Y  A26634266       M0019694   \n",
       "2  C0000005  FRE  P  L6220710  PF  S7133957      Y  A13433185       M0019694   \n",
       "3  C0000005  FRE  S  L6215648  PF  S7133916      Y  A27488794       M0019694   \n",
       "4  C0000005  FRE  S  L6215656  PF  S7133956      Y  A27614225       M0019694   \n",
       "\n",
       "      SDUI     SAB  TTY     CODE  \\\n",
       "0  D012711     MSH  PEP  D012711   \n",
       "1  D012711     MSH   ET  D012711   \n",
       "2  D012711  MSHFRE  PEP  D012711   \n",
       "3  D012711  MSHFRE   ET  D012711   \n",
       "4  D012711  MSHFRE   ET  D012711   \n",
       "\n",
       "                                                 STR SRL SUPPRESS  CVF  \n",
       "0                     (131)I-Macroaggregated Albumin   0        N  256  \n",
       "1                                         (131)I-MAA   0        N  256  \n",
       "2      Macroagrégats d'albumine marquée à l'iode 131   3        N       \n",
       "3                                          MAA-I 131   3        N       \n",
       "4  Macroagrégats d'albumine humaine marquée à l'i...   3        N       "
      ]
     },
     "execution_count": 6,
     "metadata": {},
     "output_type": "execute_result"
    }
   ],
   "source": [
    "res_df = pd.DataFrame(res, columns=cols)\n",
    "res_df.head()"
   ]
  },
  {
   "cell_type": "code",
   "execution_count": 8,
   "id": "8f05cbac-001b-4a7b-8fac-5f4a18b2d979",
   "metadata": {},
   "outputs": [],
   "source": [
    "def prepare_icd(string):\n",
    "    return re.sub(r'[^a-zA-Z0-9]', '', string)"
   ]
  },
  {
   "cell_type": "code",
   "execution_count": 9,
   "id": "8db55d2f-62e2-47ac-801b-4660ed88b5bc",
   "metadata": {},
   "outputs": [],
   "source": [
    "res_df[\"CODE_CLEARED\"] = res_df.CODE.apply(lambda x: prepare_icd(x))"
   ]
  },
  {
   "cell_type": "code",
   "execution_count": 27,
   "id": "7bc6e6cf-10e2-4230-ad23-7a321849cea6",
   "metadata": {},
   "outputs": [],
   "source": [
    "# base_icd_cui ={}\n",
    "# for icd in tqdm(top_50[0].values):\n",
    "#     base_icd_cui[icd] = list(set(res_df_icd.loc[(res_df_icd.CODE_CLEARED == icd)&(res_df_icd.SAB == \"ICD10CM\"), \"CUI\"]))\n",
    "#     if len(base_icd_cui[icd]) == 0:\n",
    "#         base_icd_cui[icd] = list(set(res_df_icd.loc[(res_df_icd.CODE_CLEARED == icd)&(res_df_icd.SAB == \"ICD10PCS\"), \"CUI\"]))"
   ]
  },
  {
   "cell_type": "code",
   "execution_count": 63,
   "id": "b7266105-069d-4443-b710-19944220c7cc",
   "metadata": {},
   "outputs": [
    {
     "name": "stderr",
     "output_type": "stream",
     "text": [
      "100%|██████████| 50/50 [00:08<00:00,  6.18it/s]\n"
     ]
    }
   ],
   "source": [
    "# https://www.nlm.nih.gov/research/umls/sourcereleasedocs/index.html\n",
    "res_df_icd = res_df[(res_df.SAB.str.contains(\"ICD10\"))&(res_df.LAT==\"ENG\")]\n",
    "\n",
    "icd_cui ={}\n",
    "for icd in tqdm(top_50[0].values):\n",
    "    icd_cui[icd] = list(set(res_df_icd.loc[(res_df_icd.CODE_CLEARED.str.contains(icd)), \"CUI\"]))\n",
    "    assert len(icd_cui[icd]) > 0"
   ]
  },
  {
   "cell_type": "code",
   "execution_count": 85,
   "id": "1a2b7299-c75a-45a6-a895-8d33909e5070",
   "metadata": {},
   "outputs": [
    {
     "name": "stderr",
     "output_type": "stream",
     "text": [
      "100%|██████████| 50/50 [00:12<00:00,  4.02it/s]\n"
     ]
    }
   ],
   "source": [
    "icd_texts = {key: [] for key in icd_cui}\n",
    "for key in tqdm(icd_cui):\n",
    "    for key_i in icd_cui[key]:\n",
    "        icd_texts[key].extend(res_df_icd.loc[(res_df_icd.CUI == key_i)&(~res_df_icd.TTY.isin([\"PX\", \"HX\"])), \"STR\"].values)"
   ]
  },
  {
   "cell_type": "code",
   "execution_count": 80,
   "id": "3ceac37c-8a8b-4f69-aab9-da2840a86061",
   "metadata": {},
   "outputs": [],
   "source": [
    "with open(\"./icd_names.json\", 'w') as f:\n",
    "    json.dump(icd_texts, f)"
   ]
  },
  {
   "cell_type": "code",
   "execution_count": 104,
   "id": "e5c93c6b-4920-4d6c-b8c8-f1837352511b",
   "metadata": {},
   "outputs": [],
   "source": [
    "def clear_text(string):\n",
    "    new_string = re.sub(r'[^a-zA-Z0-9]', ' ', string)\n",
    "    return ' '.join([s.lower() for s in new_string.split() if s.lower() != \"nos\"])"
   ]
  },
  {
   "cell_type": "code",
   "execution_count": 105,
   "id": "beb03d38-8ae7-440d-abb9-1b38bc1ac0a8",
   "metadata": {},
   "outputs": [],
   "source": [
    "icd_texts_cleared = {}\n",
    "for key in icd_texts:\n",
    "    icd_texts_cleared[key] = list(set(list(map(lambda x: clear_text(x), icd_texts[key]))))"
   ]
  },
  {
   "cell_type": "code",
   "execution_count": 107,
   "id": "658a1cf3-4481-4ae1-a604-a72fe7f4959a",
   "metadata": {},
   "outputs": [],
   "source": [
    "with open(\"./icd_names_cleared.json\", 'w') as f:\n",
    "    json.dump(icd_texts_cleared, f)"
   ]
  },
  {
   "cell_type": "code",
   "execution_count": null,
   "id": "107e80d3-4067-47d3-8aa5-b6faa692002b",
   "metadata": {},
   "outputs": [],
   "source": []
  },
  {
   "cell_type": "code",
   "execution_count": null,
   "id": "0169edf9-5730-406c-968f-06e4ba45e007",
   "metadata": {},
   "outputs": [],
   "source": []
  },
  {
   "cell_type": "code",
   "execution_count": null,
   "id": "cc0f3333-1e26-4357-b1f9-d53f6d15ec19",
   "metadata": {},
   "outputs": [],
   "source": []
  }
 ],
 "metadata": {
  "kernelspec": {
   "display_name": "ue_venv",
   "language": "python",
   "name": "ue_venv"
  },
  "language_info": {
   "codemirror_mode": {
    "name": "ipython",
    "version": 3
   },
   "file_extension": ".py",
   "mimetype": "text/x-python",
   "name": "python",
   "nbconvert_exporter": "python",
   "pygments_lexer": "ipython3",
   "version": "3.7.12"
  }
 },
 "nbformat": 4,
 "nbformat_minor": 5
}
