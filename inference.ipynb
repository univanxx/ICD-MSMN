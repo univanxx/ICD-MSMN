{
 "cells": [
  {
   "cell_type": "code",
   "execution_count": 1,
   "id": "2e6092e5-8601-4f5f-84de-5020954735d9",
   "metadata": {},
   "outputs": [],
   "source": [
    "from train_utils import generate_model\n",
    "import json\n",
    "import torch\n",
    "from data_util import MimicFullDataset, my_collate_fn\n",
    "from torch.utils.data import DataLoader\n",
    "\n",
    "from main import eval_func"
   ]
  },
  {
   "cell_type": "code",
   "execution_count": 2,
   "id": "0ed57395-d0db-4e14-b255-e56e80942b46",
   "metadata": {},
   "outputs": [],
   "source": [
    "# Путь до дирекории с чекпоинтами\n",
    "path_dir = \"/home/jovyan/isviridov/ue/ICD-MSMN/output/mimic4_word-0.2_lstm-1-512-0.1_MultiLabelMultiHeadLAATV2-512-xav-0.2-8_max-est1-8-42_ce-0.0-1.0_bsz16-AdamW-20-4000-warm0.0-wd0.01-0.0005-rdrop5.0\"\n",
    "device = \"cuda:0\""
   ]
  },
  {
   "cell_type": "code",
   "execution_count": 3,
   "id": "692c3bd1-a5d6-404c-805a-9e50f2a3d96f",
   "metadata": {},
   "outputs": [],
   "source": [
    "# Загружается лучшая модель по валидации\n",
    "model = torch.load(f\"{path_dir}/best_epoch.pth\").to(device)\n",
    "batch_size = 8"
   ]
  },
  {
   "cell_type": "code",
   "execution_count": 4,
   "id": "09cf98cd-88db-4602-8dfb-38c7edd8c9b2",
   "metadata": {},
   "outputs": [],
   "source": [
    "# Загрузка валидационного датасета (для поиска трешхолда, тк он не сохраняется)\n",
    "word_embedding_path = \"./embedding/processed_full.model\"\n",
    "\n",
    "dev_dataset = MimicFullDataset(\"dev\", word_embedding_path, 4000)\n",
    "dev_dataloader = DataLoader(dev_dataset, batch_size=batch_size, collate_fn=my_collate_fn, shuffle=False, num_workers=1)\n",
    "test_dataset = MimicFullDataset(\"test\", word_embedding_path, 4000)\n",
    "test_dataloader = DataLoader(test_dataset, batch_size=batch_size, collate_fn=my_collate_fn, shuffle=False, num_workers=1)"
   ]
  },
  {
   "cell_type": "code",
   "execution_count": 5,
   "id": "cae87e55-a06b-437f-b724-4b803acedcec",
   "metadata": {},
   "outputs": [
    {
     "name": "stderr",
     "output_type": "stream",
     "text": [
      "100%|██████████| 476/476 [00:24<00:00, 19.06it/s]\n"
     ]
    }
   ],
   "source": [
    "# Валидация (в основном для расчёта трешхолда)\n",
    "dev_metric, (dev_yhat, dev_y, dev_yhat_raw), threshold = eval_func(model, dev_dataloader, device, tqdm_bar=True)"
   ]
  },
  {
   "cell_type": "code",
   "execution_count": 6,
   "id": "3599dd35-98f9-4e0c-b3da-947c1f983471",
   "metadata": {},
   "outputs": [
    {
     "data": {
      "text/plain": [
       "{'acc_macro': 0.5530060210235864,\n",
       " 'prec_macro': 0.6965041509893598,\n",
       " 'rec_macro': 0.6970153235909379,\n",
       " 'f1_macro': 0.696759643535654,\n",
       " 'acc_micro': 0.5854394860084353,\n",
       " 'prec_micro': 0.740853210559824,\n",
       " 'rec_micro': 0.7362016937603392,\n",
       " 'f1_micro': 0.738520127920315,\n",
       " 'rec_at_5': 0.6943198256700227,\n",
       " 'prec_at_5': 0.6509329829172142,\n",
       " 'f1_at_5': 0.6719267521122437,\n",
       " 'rec_at_8': 0.8324006724039577,\n",
       " 'prec_at_8': 0.5229960578186597,\n",
       " 'f1_at_8': 0.6423835331539697,\n",
       " 'rec_at_15': 0.9391307312923607,\n",
       " 'prec_at_15': 0.33184406482698214,\n",
       " 'f1_at_15': 0.49040305162232384,\n",
       " 'auc_macro': 0.9348519020183065,\n",
       " 'auc_micro': 0.9559267933019663}"
      ]
     },
     "execution_count": 6,
     "metadata": {},
     "output_type": "execute_result"
    }
   ],
   "source": [
    "dev_metric"
   ]
  },
  {
   "cell_type": "code",
   "execution_count": 7,
   "id": "9f40a5b0-12d5-4561-a810-4e163c6d3eea",
   "metadata": {},
   "outputs": [
    {
     "name": "stderr",
     "output_type": "stream",
     "text": [
      "100%|██████████| 921/921 [00:40<00:00, 22.72it/s]\n"
     ]
    }
   ],
   "source": [
    "# Тест: dev_yhat_raw - логиты, dev_yhat - логиты после трешхолда, dev_y - ground truth\n",
    "test_metric, (dev_yhat, dev_y, dev_yhat_raw), _ = eval_func(model, test_dataloader, device, tqdm_bar=True, threshold=threshold)"
   ]
  },
  {
   "cell_type": "code",
   "execution_count": 8,
   "id": "b73a894b-1bf7-4639-b825-22bcf757be38",
   "metadata": {},
   "outputs": [
    {
     "data": {
      "text/plain": [
       "{'acc_macro': 0.5557136680822725,\n",
       " 'prec_macro': 0.6986344743225809,\n",
       " 'rec_macro': 0.6993245556906181,\n",
       " 'f1_macro': 0.6989793446824755,\n",
       " 'acc_micro': 0.5884286653517411,\n",
       " 'prec_micro': 0.7423920369122278,\n",
       " 'rec_micro': 0.7394020756957692,\n",
       " 'f1_micro': 0.7408940397350974,\n",
       " 'rec_at_5': 0.7098881717757207,\n",
       " 'prec_at_5': 0.6513843648208468,\n",
       " 'f1_at_5': 0.6793791007083276,\n",
       " 'rec_at_8': 0.839703137158081,\n",
       " 'prec_at_8': 0.5148615635179153,\n",
       " 'f1_at_8': 0.6383318122380617,\n",
       " 'rec_at_15': 0.9425761879503459,\n",
       " 'prec_at_15': 0.3242942453854506,\n",
       " 'f1_at_15': 0.4825624239801493,\n",
       " 'auc_macro': 0.9371672179444519,\n",
       " 'auc_micro': 0.9577894110746192}"
      ]
     },
     "execution_count": 8,
     "metadata": {},
     "output_type": "execute_result"
    }
   ],
   "source": [
    "test_metric"
   ]
  },
  {
   "cell_type": "code",
   "execution_count": 14,
   "id": "5cfaef47-fad5-48f1-8f74-7f652d88c524",
   "metadata": {},
   "outputs": [
    {
     "data": {
      "text/plain": [
       "(array([[ -2.9810805 ,  -6.0504203 ,  -1.4114794 ,  -3.8998897 ,\n",
       "          -2.5264597 ,  -5.7022276 ,  -2.4338849 ,  -2.4488735 ,\n",
       "          -0.7510817 ,  -1.4569505 ,  -2.8358486 ,  -2.1841345 ,\n",
       "          -2.1629922 ,  -1.3296151 ,  -3.4232244 ,  -3.2867386 ,\n",
       "          -2.1514978 ,   0.57269865,  -3.9672565 ,  -5.0608745 ,\n",
       "          -6.9945965 ,  -3.8867693 ,  -4.2377896 ,  -5.3218694 ,\n",
       "          -2.4139996 ,  -2.8933094 ,  -3.8860736 ,  -1.9988656 ,\n",
       "          -2.6469536 ,  -1.9725678 ,  -2.6347969 ,  -3.8692875 ,\n",
       "          -2.7529347 ,  -3.7117763 ,  -3.2451048 ,  -4.0340204 ,\n",
       "         -11.435334  ,  -4.2765613 ,  -4.187875  ,  -2.872563  ,\n",
       "          -4.4055853 ,   1.9272723 ,  -4.3311586 ,  -4.244507  ,\n",
       "          -5.044257  ,  -2.7505763 ,  -2.8848522 ,  -1.2859597 ,\n",
       "          -5.5899663 ,  -4.55542   ],\n",
       "        [ -6.3940372 ,  -8.750653  ,  -3.218421  ,  -5.0218964 ,\n",
       "          -3.7120266 ,  -7.5002027 ,  -3.980398  ,  -2.0434327 ,\n",
       "           0.902923  ,  -5.5081425 ,  -6.0383754 ,  -1.5748355 ,\n",
       "          -3.1989126 ,  -3.2311835 ,  -5.127409  ,  -3.127167  ,\n",
       "          -3.9778826 ,  -1.8704014 ,  -7.9123178 ,  -7.805072  ,\n",
       "         -10.019886  ,  -5.4183006 ,  -5.5358562 ,  -6.355907  ,\n",
       "          -4.658524  ,  -7.716166  ,  -4.8267393 ,  -2.9655566 ,\n",
       "          -7.360512  ,  -2.443187  ,  -5.0816    ,  -4.765496  ,\n",
       "          -5.1463943 ,  -6.0963755 ,  -5.7823124 ,  -7.127389  ,\n",
       "           0.5306481 ,  -6.7744565 ,  -6.0317926 ,  -4.410438  ,\n",
       "          -0.7855113 ,  -5.6385903 ,  -5.3221054 ,  -4.99346   ,\n",
       "          -6.719772  ,  -3.6124113 ,  -3.5429313 ,  -1.0271125 ,\n",
       "          -6.35049   ,  -4.8839016 ]], dtype=float32),\n",
       " array([[0, 0, 0, 0, 0, 0, 0, 0, 0, 0, 0, 0, 0, 0, 0, 0, 0, 1, 0, 0, 0, 0,\n",
       "         0, 0, 0, 0, 0, 0, 0, 0, 0, 0, 0, 0, 0, 0, 0, 0, 0, 0, 0, 1, 0, 0,\n",
       "         0, 0, 0, 0, 0, 0],\n",
       "        [0, 0, 0, 0, 0, 0, 0, 0, 1, 0, 0, 0, 0, 0, 0, 0, 0, 0, 0, 0, 0, 0,\n",
       "         0, 0, 0, 0, 0, 0, 0, 0, 0, 0, 0, 0, 0, 0, 1, 0, 0, 0, 0, 0, 0, 0,\n",
       "         0, 0, 0, 0, 0, 0]]))"
      ]
     },
     "execution_count": 14,
     "metadata": {},
     "output_type": "execute_result"
    }
   ],
   "source": [
    "dev_yhat_raw[:2], dev_yhat[:2]"
   ]
  },
  {
   "cell_type": "code",
   "execution_count": null,
   "id": "d2881456-3273-4547-8f22-2e71d483e443",
   "metadata": {},
   "outputs": [],
   "source": []
  }
 ],
 "metadata": {
  "kernelspec": {
   "display_name": "ue_venv",
   "language": "python",
   "name": "ue_venv"
  },
  "language_info": {
   "codemirror_mode": {
    "name": "ipython",
    "version": 3
   },
   "file_extension": ".py",
   "mimetype": "text/x-python",
   "name": "python",
   "nbconvert_exporter": "python",
   "pygments_lexer": "ipython3",
   "version": "3.7.12"
  }
 },
 "nbformat": 4,
 "nbformat_minor": 5
}
