{
 "cells": [
  {
   "cell_type": "code",
   "execution_count": 1,
   "id": "2e6092e5-8601-4f5f-84de-5020954735d9",
   "metadata": {},
   "outputs": [],
   "source": [
    "from train_utils import generate_model\n",
    "import json\n",
    "import torch\n",
    "from data_util import MimicFullDataset, my_collate_fn\n",
    "from torch.utils.data import DataLoader\n",
    "\n",
    "from main import eval_func"
   ]
  },
  {
   "cell_type": "code",
   "execution_count": 2,
   "id": "0ed57395-d0db-4e14-b255-e56e80942b46",
   "metadata": {},
   "outputs": [],
   "source": [
    "# Путь до дирекории с чекпоинтами\n",
    "model_dir = \"/mnt/s3-data/datasets/mimic4/output/model_with_mimic3_embeds/mimic4_word-0.2_lstm-1-512-0.1_MultiLabelMultiHeadLAATV2-512-xav-0.2-8_max-est1-8-42_ce-0.0-1.0_bsz16-AdamW-20-4000-warm0.0-wd0.01-0.0005-rdrop5.0\"\n",
    "embeds_dir = \"/mnt/s3-data/datasets/mimic4/mimic_iv/mimic3_embeds/word2vec_sg0_100.model\"\n",
    "device = \"cuda:1\""
   ]
  },
  {
   "cell_type": "code",
   "execution_count": 3,
   "id": "692c3bd1-a5d6-404c-805a-9e50f2a3d96f",
   "metadata": {},
   "outputs": [],
   "source": [
    "# Загружается лучшая модель по валидации\n",
    "model = torch.load(f\"{model_dir}/best_epoch.pth\").to(device)\n",
    "model.c_word_mask = model.c_word_mask.to(device)\n",
    "model.c_word_sent = model.c_word_sent.to(device)\n",
    "model.c_input_word = model.c_input_word.to(device)\n",
    "\n",
    "batch_size = 8"
   ]
  },
  {
   "cell_type": "code",
   "execution_count": 4,
   "id": "09cf98cd-88db-4602-8dfb-38c7edd8c9b2",
   "metadata": {},
   "outputs": [],
   "source": [
    "# Загрузка валидационного датасета (для поиска трешхолда, тк он не сохраняется)\n",
    "dev_dataset = MimicFullDataset(\"dev\", embeds_dir, 4000)\n",
    "dev_dataloader = DataLoader(dev_dataset, batch_size=batch_size, collate_fn=my_collate_fn, shuffle=False, num_workers=1)\n",
    "test_dataset = MimicFullDataset(\"test\", embeds_dir, 4000)\n",
    "test_dataloader = DataLoader(test_dataset, batch_size=batch_size, collate_fn=my_collate_fn, shuffle=False, num_workers=1)"
   ]
  },
  {
   "cell_type": "code",
   "execution_count": 5,
   "id": "cae87e55-a06b-437f-b724-4b803acedcec",
   "metadata": {},
   "outputs": [
    {
     "name": "stderr",
     "output_type": "stream",
     "text": [
      "100%|██████████| 476/476 [00:21<00:00, 21.77it/s]\n"
     ]
    }
   ],
   "source": [
    "# Валидация (в основном для расчёта трешхолда)\n",
    "dev_metric, (dev_yhat, dev_y, dev_yhat_raw), threshold = eval_func(model, dev_dataloader, device, tqdm_bar=True)"
   ]
  },
  {
   "cell_type": "code",
   "execution_count": 6,
   "id": "3599dd35-98f9-4e0c-b3da-947c1f983471",
   "metadata": {},
   "outputs": [
    {
     "data": {
      "text/plain": [
       "{'acc_macro': 0.5559106979658223,\n",
       " 'prec_macro': 0.705887979377018,\n",
       " 'rec_macro': 0.6936896043688301,\n",
       " 'f1_macro': 0.699735632850313,\n",
       " 'acc_micro': 0.5853981096114179,\n",
       " 'prec_micro': 0.7445703260278003,\n",
       " 'rec_micro': 0.7325026769200783,\n",
       " 'f1_micro': 0.7384872052798119,\n",
       " 'rec_at_5': 0.6918052519826501,\n",
       " 'prec_at_5': 0.6501971090670171,\n",
       " 'f1_at_5': 0.6703561602152069,\n",
       " 'rec_at_8': 0.8310636250156619,\n",
       " 'prec_at_8': 0.5227332457293036,\n",
       " 'f1_at_8': 0.6417869556352915,\n",
       " 'rec_at_15': 0.9392640433737675,\n",
       " 'prec_at_15': 0.3320192728865528,\n",
       " 'f1_at_15': 0.49061253418602035,\n",
       " 'auc_macro': 0.934798444913623,\n",
       " 'auc_micro': 0.9563674994378357}"
      ]
     },
     "execution_count": 6,
     "metadata": {},
     "output_type": "execute_result"
    }
   ],
   "source": [
    "dev_metric"
   ]
  },
  {
   "cell_type": "code",
   "execution_count": 7,
   "id": "9f40a5b0-12d5-4561-a810-4e163c6d3eea",
   "metadata": {},
   "outputs": [
    {
     "name": "stderr",
     "output_type": "stream",
     "text": [
      "100%|██████████| 921/921 [00:41<00:00, 22.26it/s]\n"
     ]
    }
   ],
   "source": [
    "# Тест: dev_yhat_raw - логиты, dev_yhat - логиты после трешхолда, dev_y - ground truth\n",
    "test_metric, (dev_yhat, dev_y, dev_yhat_raw), _ = eval_func(model, test_dataloader, device, tqdm_bar=True, threshold=threshold)"
   ]
  },
  {
   "cell_type": "code",
   "execution_count": 8,
   "id": "b73a894b-1bf7-4639-b825-22bcf757be38",
   "metadata": {},
   "outputs": [
    {
     "data": {
      "text/plain": [
       "{'acc_macro': 0.556983215307773,\n",
       " 'prec_macro': 0.7091817872654288,\n",
       " 'rec_macro': 0.6964002490602869,\n",
       " 'f1_macro': 0.7027329042589135,\n",
       " 'acc_micro': 0.5892717306186362,\n",
       " 'prec_micro': 0.7449136426394333,\n",
       " 'rec_micro': 0.7382403056745992,\n",
       " 'f1_micro': 0.7415619610741543,\n",
       " 'rec_at_5': 0.7082975476777916,\n",
       " 'prec_at_5': 0.6500271444082518,\n",
       " 'f1_at_5': 0.6779124829149429,\n",
       " 'rec_at_8': 0.838864421616997,\n",
       " 'prec_at_8': 0.5144374321389794,\n",
       " 'f1_at_8': 0.6377634934463228,\n",
       " 'rec_at_15': 0.9437690388784601,\n",
       " 'prec_at_15': 0.3246018820123055,\n",
       " 'f1_at_15': 0.48305933407830975,\n",
       " 'auc_macro': 0.9364695491775712,\n",
       " 'auc_micro': 0.9575190884932989}"
      ]
     },
     "execution_count": 8,
     "metadata": {},
     "output_type": "execute_result"
    }
   ],
   "source": [
    "test_metric"
   ]
  },
  {
   "cell_type": "code",
   "execution_count": 9,
   "id": "5cfaef47-fad5-48f1-8f74-7f652d88c524",
   "metadata": {},
   "outputs": [
    {
     "data": {
      "text/plain": [
       "(array([[ -2.3478022 ,  -4.3366065 ,  -0.76810884,  -2.5877743 ,\n",
       "          -0.53989863,  -3.7219074 ,  -0.75302756,  -1.8592943 ,\n",
       "           0.03826404,  -1.1498349 ,  -1.9747726 ,  -1.5877777 ,\n",
       "          -0.7024405 ,  -0.65485   ,  -2.5973842 ,  -2.409341  ,\n",
       "          -1.9991333 ,   0.3217976 ,  -3.0705009 ,  -3.1525962 ,\n",
       "          -4.7005205 ,  -1.7631277 ,  -2.820897  ,  -1.1594746 ,\n",
       "           0.07368386,  -1.8499093 ,  -1.2649512 ,  -1.0763559 ,\n",
       "          -3.570842  ,  -0.6253984 ,  -1.0826867 ,  -3.2176063 ,\n",
       "          -3.1571984 ,  -3.0010257 ,  -1.8408563 ,  -2.6844306 ,\n",
       "         -10.79202   ,  -4.434217  ,  -3.5336676 ,  -2.381419  ,\n",
       "          -4.1773396 ,   2.1684    ,  -2.3287804 ,  -1.9040662 ,\n",
       "          -2.5591264 ,  -1.6012051 ,  -0.81751096,  -2.5956612 ,\n",
       "          -3.3163705 ,  -2.35377   ],\n",
       "        [ -7.8886933 , -10.15856   ,  -3.5262523 ,  -4.1764245 ,\n",
       "          -4.5758038 ,  -7.4148903 ,  -3.719347  ,  -3.100707  ,\n",
       "           1.6389074 ,  -5.475654  ,  -5.169864  ,  -2.8503735 ,\n",
       "          -4.8398094 ,  -4.7252474 ,  -5.040842  ,  -3.4543953 ,\n",
       "          -4.407046  ,  -3.1811118 ,  -7.1450143 ,  -8.188409  ,\n",
       "          -9.514666  ,  -3.7597837 ,  -5.167551  ,  -5.450511  ,\n",
       "          -3.7425952 ,  -6.635868  ,  -5.28083   ,  -4.985242  ,\n",
       "          -9.197892  ,  -3.6250205 ,  -4.7618465 ,  -4.7761903 ,\n",
       "          -6.5953636 ,  -7.103252  ,  -6.321843  ,  -6.1464286 ,\n",
       "           0.8237693 ,  -7.4466114 ,  -6.8813906 ,  -4.25893   ,\n",
       "          -0.7520803 ,  -6.436856  ,  -5.4463754 ,  -4.786318  ,\n",
       "          -7.3658633 ,  -5.2150497 ,  -2.9820902 ,  -0.62819487,\n",
       "          -5.1087484 ,  -4.820034  ]], dtype=float32),\n",
       " array([[0, 0, 0, 0, 0, 0, 0, 0, 1, 0, 0, 0, 0, 0, 0, 0, 0, 1, 0, 0, 0, 0,\n",
       "         0, 0, 1, 0, 0, 0, 0, 0, 0, 0, 0, 0, 0, 0, 0, 0, 0, 0, 0, 1, 0, 0,\n",
       "         0, 0, 0, 0, 0, 0],\n",
       "        [0, 0, 0, 0, 0, 0, 0, 0, 1, 0, 0, 0, 0, 0, 0, 0, 0, 0, 0, 0, 0, 0,\n",
       "         0, 0, 0, 0, 0, 0, 0, 0, 0, 0, 0, 0, 0, 0, 1, 0, 0, 0, 0, 0, 0, 0,\n",
       "         0, 0, 0, 0, 0, 0]]))"
      ]
     },
     "execution_count": 9,
     "metadata": {},
     "output_type": "execute_result"
    }
   ],
   "source": [
    "dev_yhat_raw[:2], dev_yhat[:2]"
   ]
  },
  {
   "cell_type": "code",
   "execution_count": null,
   "id": "d2881456-3273-4547-8f22-2e71d483e443",
   "metadata": {},
   "outputs": [],
   "source": []
  }
 ],
 "metadata": {
  "kernelspec": {
   "display_name": "nlp_venv",
   "language": "python",
   "name": "nlp_venv"
  },
  "language_info": {
   "codemirror_mode": {
    "name": "ipython",
    "version": 3
   },
   "file_extension": ".py",
   "mimetype": "text/x-python",
   "name": "python",
   "nbconvert_exporter": "python",
   "pygments_lexer": "ipython3",
   "version": "3.8.10"
  }
 },
 "nbformat": 4,
 "nbformat_minor": 5
}
